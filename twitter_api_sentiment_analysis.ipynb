{
 "cells": [
  {
   "cell_type": "markdown",
   "metadata": {},
   "source": [
    "<h1 align='center' style='color:purple'><b>Sentiment Analysis</b></h1>"
   ]
  },
  {
   "cell_type": "markdown",
   "metadata": {},
   "source": [
    "Sentiment analysis is the area which deals with judgments, responses as well as feelings, which is generated from texts, being extensively used in fields like data mining, web mining, and social media analytics because sentiments are the most essential characteristics to judge the human behavior. Sentiments can be positive, negative, or neutral. \n",
    "Based on this project we can judge the mood of the person while making a tweet."
   ]
  },
  {
   "cell_type": "markdown",
   "metadata": {},
   "source": [
    "<b> Install tweepy </b>  \n",
    "[Tweepy](https://docs.tweepy.org/en/latest/) is an easy-to-use Python library for accessing the Twitter API."
   ]
  },
  {
   "cell_type": "code",
   "execution_count": 5,
   "metadata": {},
   "outputs": [
    {
     "name": "stdout",
     "output_type": "stream",
     "text": [
      "Requirement already satisfied: tweepy in c:\\users\\sambi\\appdata\\local\\programs\\python\\python38\\lib\\site-packages (3.10.0)"
     ]
    },
    {
     "name": "stderr",
     "output_type": "stream",
     "text": [
      "WARNING: You are using pip version 20.2.3; however, version 21.2.2 is available.\n",
      "You should consider upgrading via the 'c:\\users\\sambi\\appdata\\local\\programs\\python\\python38\\python.exe -m pip install --upgrade pip' command.\n"
     ]
    },
    {
     "name": "stdout",
     "output_type": "stream",
     "text": [
      "\n",
      "Requirement already satisfied: requests-oauthlib>=0.7.0 in c:\\users\\sambi\\appdata\\local\\programs\\python\\python38\\lib\\site-packages (from tweepy) (1.3.0)\n",
      "Requirement already satisfied: requests[socks]>=2.11.1 in c:\\users\\sambi\\appdata\\local\\programs\\python\\python38\\lib\\site-packages (from tweepy) (2.26.0)\n",
      "Requirement already satisfied: six>=1.10.0 in c:\\users\\sambi\\appdata\\roaming\\python\\python38\\site-packages (from tweepy) (1.15.0)\n",
      "Requirement already satisfied: oauthlib>=3.0.0 in c:\\users\\sambi\\appdata\\local\\programs\\python\\python38\\lib\\site-packages (from requests-oauthlib>=0.7.0->tweepy) (3.1.1)\n",
      "Requirement already satisfied: urllib3<1.27,>=1.21.1 in c:\\users\\sambi\\appdata\\local\\programs\\python\\python38\\lib\\site-packages (from requests[socks]>=2.11.1->tweepy) (1.26.6)\n",
      "Requirement already satisfied: certifi>=2017.4.17 in c:\\users\\sambi\\appdata\\local\\programs\\python\\python38\\lib\\site-packages (from requests[socks]>=2.11.1->tweepy) (2021.5.30)\n",
      "Requirement already satisfied: idna<4,>=2.5; python_version >= \"3\" in c:\\users\\sambi\\appdata\\local\\programs\\python\\python38\\lib\\site-packages (from requests[socks]>=2.11.1->tweepy) (3.2)\n",
      "Requirement already satisfied: charset-normalizer~=2.0.0; python_version >= \"3\" in c:\\users\\sambi\\appdata\\local\\programs\\python\\python38\\lib\\site-packages (from requests[socks]>=2.11.1->tweepy) (2.0.4)\n",
      "Requirement already satisfied: PySocks!=1.5.7,>=1.5.6; extra == \"socks\" in c:\\users\\sambi\\appdata\\local\\programs\\python\\python38\\lib\\site-packages (from requests[socks]>=2.11.1->tweepy) (1.7.1)\n"
     ]
    }
   ],
   "source": [
    "!pip install tweepy"
   ]
  },
  {
   "cell_type": "markdown",
   "metadata": {},
   "source": [
    "<b>Import tweepy and pandas Library </b>"
   ]
  },
  {
   "cell_type": "code",
   "execution_count": 6,
   "metadata": {},
   "outputs": [],
   "source": [
    "import tweepy\n",
    "import pandas as pd"
   ]
  },
  {
   "cell_type": "markdown",
   "metadata": {},
   "source": [
    "To get our own consumer key create a developer account and create a project over https://developer.twitter.com/en and access consumer key secret, access token, access token secret. It is free of cost (Limited use)."
   ]
  },
  {
   "cell_type": "code",
   "execution_count": 7,
   "metadata": {},
   "outputs": [],
   "source": [
    "# Save the keys and token obtained from twitter\n",
    "\n",
    "consumer_key = 'pF6zk9LwfTgFKhv53Kb4S1ACs'\n",
    "consumer_secret = 'JN9jABAC8F1JF5JoTsLeuvmbENLJ6lMUqBJRRp5g8bbViKeuYF'\n",
    "access_token = '1261337548816818176-YLuzE8REfxWO4yfAAgvYo2B561eyqt'\n",
    "access_token_secret = 'rmlgbFYcwcEbhOyOX0RffgzXfKUgsm6Rbz7Y897ki3NAT'\n",
    "\n",
    "# api_key=\"2dq4wMRXvtNn8nFRx5V5qR6YX\"\n",
    "# api_secret_key=\"pLm7uEIyw6LEZdi7z51dFNOK7hAJTnSyDLqSFdiCdugcPcCOt2\"\n",
    "# bearer_token=\"AAAAAAAAAAAAAAAAAAAAAEN6OgEAAAAA8tgS1XdhAytyd71YR%2BRLdZW0nnU%3DjzEsCj0XQuccvpkT0cN0YeDqWa9w1GiPrSnFeBdBlEEq1UR5yJ\""
   ]
  },
  {
   "cell_type": "markdown",
   "metadata": {},
   "source": [
    "<b> Authentication using the obtained keys and tokens</b>"
   ]
  },
  {
   "cell_type": "code",
   "execution_count": 8,
   "metadata": {},
   "outputs": [],
   "source": [
    "auth = tweepy.OAuthHandler(consumer_key, consumer_secret)\n",
    "auth.set_access_token(access_token, access_token_secret)\n",
    "api = tweepy.API(auth)"
   ]
  },
  {
   "cell_type": "markdown",
   "metadata": {},
   "source": [
    "<b> Importing 150 tweets from BBC News twitter handle (@BBCBreaking)</b>"
   ]
  },
  {
   "cell_type": "code",
   "execution_count": 9,
   "metadata": {},
   "outputs": [],
   "source": [
    "n_tweets = 150\n",
    "get_tweets = tweepy.Cursor(api.user_timeline, id = 'BBCBreaking', tweet_mode = 'extended').items(n_tweets)"
   ]
  },
  {
   "cell_type": "markdown",
   "metadata": {},
   "source": [
    "150 tweet details relevant to the keyword will be stored in get_tweets variable in JSON format"
   ]
  },
  {
   "cell_type": "markdown",
   "metadata": {},
   "source": [
    "<b> Iterate over extracted tweets saved in 'get_tweets' variable and store the tweet's text and time</b>"
   ]
  },
  {
   "cell_type": "code",
   "execution_count": 10,
   "metadata": {},
   "outputs": [],
   "source": [
    "tweets = []\n",
    "time_of_tweet = []\n",
    "for i in get_tweets:\n",
    "    tweets.append(i.full_text)            # .full_text returns the text written in a particular tweet\n",
    "    time_of_tweet.append(i.created_at)    # .created_at returns the time of tweet"
   ]
  },
  {
   "cell_type": "markdown",
   "metadata": {},
   "source": [
    "You can read about more tweepy attributes [here](https://developer.twitter.com/en/docs/twitter-api/v1/data-dictionary/object-model/tweet)"
   ]
  },
  {
   "cell_type": "markdown",
   "metadata": {},
   "source": [
    "<b> Store the Data in a DataFrame </b>"
   ]
  },
  {
   "cell_type": "code",
   "execution_count": 11,
   "metadata": {},
   "outputs": [],
   "source": [
    "df = pd.DataFrame({'tweet':tweets, 'time':time_of_tweet})"
   ]
  },
  {
   "cell_type": "markdown",
   "metadata": {},
   "source": [
    "<b> First 10 tweets </b>"
   ]
  },
  {
   "cell_type": "code",
   "execution_count": 12,
   "metadata": {},
   "outputs": [
    {
     "data": {
      "text/html": [
       "<div>\n",
       "<style scoped>\n",
       "    .dataframe tbody tr th:only-of-type {\n",
       "        vertical-align: middle;\n",
       "    }\n",
       "\n",
       "    .dataframe tbody tr th {\n",
       "        vertical-align: top;\n",
       "    }\n",
       "\n",
       "    .dataframe thead th {\n",
       "        text-align: right;\n",
       "    }\n",
       "</style>\n",
       "<table border=\"1\" class=\"dataframe\">\n",
       "  <thead>\n",
       "    <tr style=\"text-align: right;\">\n",
       "      <th></th>\n",
       "      <th>tweet</th>\n",
       "      <th>time</th>\n",
       "    </tr>\n",
       "  </thead>\n",
       "  <tbody>\n",
       "    <tr>\n",
       "      <th>0</th>\n",
       "      <td>RT @BBCSport: Dina Asher-Smith's Olympics is o...</td>\n",
       "      <td>2021-07-31 11:41:03</td>\n",
       "    </tr>\n",
       "    <tr>\n",
       "      <th>1</th>\n",
       "      <td>RT @BBCSport: WOW! It’s gold for Great Britain...</td>\n",
       "      <td>2021-07-31 02:56:19</td>\n",
       "    </tr>\n",
       "    <tr>\n",
       "      <th>2</th>\n",
       "      <td>RT @BBCSport: GOLD! 🥇\\n\\n#TeamGB have won gold...</td>\n",
       "      <td>2021-07-30 23:54:07</td>\n",
       "    </tr>\n",
       "    <tr>\n",
       "      <th>3</th>\n",
       "      <td>Amazon fined $886.6m (£636m) for allegedly bre...</td>\n",
       "      <td>2021-07-30 14:58:46</td>\n",
       "    </tr>\n",
       "    <tr>\n",
       "      <th>4</th>\n",
       "      <td>Man pleads guilty to assaulting England's chie...</td>\n",
       "      <td>2021-07-30 14:15:45</td>\n",
       "    </tr>\n",
       "    <tr>\n",
       "      <th>5</th>\n",
       "      <td>RT @BBCSport: GOLD 🥇\\n\\nBETHANY SHRIEVER HAS D...</td>\n",
       "      <td>2021-07-30 03:46:06</td>\n",
       "    </tr>\n",
       "    <tr>\n",
       "      <th>6</th>\n",
       "      <td>Jodie Whittaker to step down from lead role in...</td>\n",
       "      <td>2021-07-29 14:03:54</td>\n",
       "    </tr>\n",
       "    <tr>\n",
       "      <th>7</th>\n",
       "      <td>RT @BBCSport: Multiple members of the Australi...</td>\n",
       "      <td>2021-07-29 05:17:14</td>\n",
       "    </tr>\n",
       "    <tr>\n",
       "      <th>8</th>\n",
       "      <td>Fully vaccinated travellers from US and EU wil...</td>\n",
       "      <td>2021-07-28 12:17:02</td>\n",
       "    </tr>\n",
       "    <tr>\n",
       "      <th>9</th>\n",
       "      <td>Charlotte Dujardin wins dressage bronze to bec...</td>\n",
       "      <td>2021-07-28 12:09:34</td>\n",
       "    </tr>\n",
       "  </tbody>\n",
       "</table>\n",
       "</div>"
      ],
      "text/plain": [
       "                                               tweet                time\n",
       "0  RT @BBCSport: Dina Asher-Smith's Olympics is o... 2021-07-31 11:41:03\n",
       "1  RT @BBCSport: WOW! It’s gold for Great Britain... 2021-07-31 02:56:19\n",
       "2  RT @BBCSport: GOLD! 🥇\\n\\n#TeamGB have won gold... 2021-07-30 23:54:07\n",
       "3  Amazon fined $886.6m (£636m) for allegedly bre... 2021-07-30 14:58:46\n",
       "4  Man pleads guilty to assaulting England's chie... 2021-07-30 14:15:45\n",
       "5  RT @BBCSport: GOLD 🥇\\n\\nBETHANY SHRIEVER HAS D... 2021-07-30 03:46:06\n",
       "6  Jodie Whittaker to step down from lead role in... 2021-07-29 14:03:54\n",
       "7  RT @BBCSport: Multiple members of the Australi... 2021-07-29 05:17:14\n",
       "8  Fully vaccinated travellers from US and EU wil... 2021-07-28 12:17:02\n",
       "9  Charlotte Dujardin wins dressage bronze to bec... 2021-07-28 12:09:34"
      ]
     },
     "execution_count": 12,
     "metadata": {},
     "output_type": "execute_result"
    }
   ],
   "source": [
    "df.iloc[:10,:]"
   ]
  },
  {
   "cell_type": "markdown",
   "metadata": {},
   "source": [
    "<b> Remove Re-tweets </b>"
   ]
  },
  {
   "cell_type": "code",
   "execution_count": 13,
   "metadata": {},
   "outputs": [],
   "source": [
    "# Remove Re-tweets\n",
    "df = df[df['tweet'].str.contains(\"RT\")==False]"
   ]
  },
  {
   "cell_type": "markdown",
   "metadata": {},
   "source": [
    "<b> Reset Index </b>"
   ]
  },
  {
   "cell_type": "code",
   "execution_count": 14,
   "metadata": {},
   "outputs": [],
   "source": [
    "# Reset index as there are some irregularities in index after removal of some rows\n",
    "df = df.reset_index().drop('index' ,axis = 1)"
   ]
  },
  {
   "cell_type": "markdown",
   "metadata": {},
   "source": [
    "<b> Remove Links as they dont represent sentiment </b>"
   ]
  },
  {
   "cell_type": "code",
   "execution_count": 15,
   "metadata": {},
   "outputs": [],
   "source": [
    "# Use Regex Library to find the pattern \"http\" followed any length of sting or number with white space and replace with \"\".\n",
    "import re\n",
    "\n",
    "# Keep df as backup, number of request you make from API is limited.\n",
    "df1 = df.copy()\n",
    "df1.tweet = df.tweet.apply(lambda x : re.sub(r\"http\\S+\", \"\", x))"
   ]
  },
  {
   "cell_type": "markdown",
   "metadata": {},
   "source": [
    "<b> Remove '/n' wish represents line breaks </b>"
   ]
  },
  {
   "cell_type": "code",
   "execution_count": 16,
   "metadata": {},
   "outputs": [],
   "source": [
    "df1.tweet = df1.tweet.apply(lambda x : x.replace('\\n\\n',' '))\n",
    "df1.tweet = df1.tweet.apply(lambda x : x.replace('\\n \\n',' '))"
   ]
  },
  {
   "cell_type": "markdown",
   "metadata": {},
   "source": [
    "<b> TextBlob </b>  \n",
    "[TextBlob](https://textblob.readthedocs.io/en/dev/) is a Python (2 and 3) library for processing textual data. It provides a simple API for diving into common natural language processing (NLP) tasks such as part-of-speech tagging, noun phrase extraction, sentiment analysis, classification, translation, and more."
   ]
  },
  {
   "cell_type": "markdown",
   "metadata": {},
   "source": [
    "<b> Install Textblob </b>"
   ]
  },
  {
   "cell_type": "code",
   "execution_count": 17,
   "metadata": {},
   "outputs": [
    {
     "name": "stdout",
     "output_type": "stream",
     "text": [
      "Collecting textblob"
     ]
    },
    {
     "name": "stderr",
     "output_type": "stream",
     "text": [
      "WARNING: You are using pip version 20.2.3; however, version 21.2.2 is available.\n",
      "You should consider upgrading via the 'c:\\users\\sambi\\appdata\\local\\programs\\python\\python38\\python.exe -m pip install --upgrade pip' command.\n"
     ]
    },
    {
     "name": "stdout",
     "output_type": "stream",
     "text": [
      "\n",
      "  Downloading textblob-0.15.3-py2.py3-none-any.whl (636 kB)\n",
      "Collecting nltk>=3.1\n",
      "  Downloading nltk-3.6.2-py3-none-any.whl (1.5 MB)\n",
      "Collecting joblib\n",
      "  Downloading joblib-1.0.1-py3-none-any.whl (303 kB)\n",
      "Collecting regex\n",
      "  Downloading regex-2021.7.6-cp38-cp38-win_amd64.whl (270 kB)\n",
      "Collecting click\n",
      "  Downloading click-8.0.1-py3-none-any.whl (97 kB)\n",
      "Collecting tqdm\n",
      "  Downloading tqdm-4.62.0-py2.py3-none-any.whl (76 kB)\n",
      "Requirement already satisfied: colorama; platform_system == \"Windows\" in c:\\users\\sambi\\appdata\\roaming\\python\\python38\\site-packages (from click->nltk>=3.1->textblob) (0.4.3)\n",
      "Installing collected packages: joblib, regex, click, tqdm, nltk, textblob\n",
      "Successfully installed click-8.0.1 joblib-1.0.1 nltk-3.6.2 regex-2021.7.6 textblob-0.15.3 tqdm-4.62.0\n"
     ]
    }
   ],
   "source": [
    "!pip install textblob"
   ]
  },
  {
   "cell_type": "markdown",
   "metadata": {},
   "source": [
    "<b> Import Textblob and get tweet sentiment score and save it in 'sentimen' column of df1 </b>"
   ]
  },
  {
   "cell_type": "code",
   "execution_count": 18,
   "metadata": {},
   "outputs": [
    {
     "data": {
      "text/html": [
       "<div>\n",
       "<style scoped>\n",
       "    .dataframe tbody tr th:only-of-type {\n",
       "        vertical-align: middle;\n",
       "    }\n",
       "\n",
       "    .dataframe tbody tr th {\n",
       "        vertical-align: top;\n",
       "    }\n",
       "\n",
       "    .dataframe thead th {\n",
       "        text-align: right;\n",
       "    }\n",
       "</style>\n",
       "<table border=\"1\" class=\"dataframe\">\n",
       "  <thead>\n",
       "    <tr style=\"text-align: right;\">\n",
       "      <th></th>\n",
       "      <th>tweet</th>\n",
       "      <th>time</th>\n",
       "      <th>sentiment</th>\n",
       "    </tr>\n",
       "  </thead>\n",
       "  <tbody>\n",
       "    <tr>\n",
       "      <th>0</th>\n",
       "      <td>Amazon fined $886.6m (£636m) for allegedly bre...</td>\n",
       "      <td>2021-07-30 14:58:46</td>\n",
       "      <td>(-0.05, 0.05)</td>\n",
       "    </tr>\n",
       "    <tr>\n",
       "      <th>1</th>\n",
       "      <td>Man pleads guilty to assaulting England's chie...</td>\n",
       "      <td>2021-07-30 14:15:45</td>\n",
       "      <td>(-0.16666666666666666, 0.4166666666666667)</td>\n",
       "    </tr>\n",
       "    <tr>\n",
       "      <th>2</th>\n",
       "      <td>Jodie Whittaker to step down from lead role in...</td>\n",
       "      <td>2021-07-29 14:03:54</td>\n",
       "      <td>(-0.15555555555555559, 0.2888888888888889)</td>\n",
       "    </tr>\n",
       "    <tr>\n",
       "      <th>3</th>\n",
       "      <td>Fully vaccinated travellers from US and EU wil...</td>\n",
       "      <td>2021-07-28 12:17:02</td>\n",
       "      <td>(0.0, 0.0)</td>\n",
       "    </tr>\n",
       "    <tr>\n",
       "      <th>4</th>\n",
       "      <td>Charlotte Dujardin wins dressage bronze to bec...</td>\n",
       "      <td>2021-07-28 12:09:34</td>\n",
       "      <td>(0.15, 0.18333333333333335)</td>\n",
       "    </tr>\n",
       "    <tr>\n",
       "      <th>...</th>\n",
       "      <td>...</td>\n",
       "      <td>...</td>\n",
       "      <td>...</td>\n",
       "    </tr>\n",
       "    <tr>\n",
       "      <th>120</th>\n",
       "      <td>The report into the 1995 interview between Mar...</td>\n",
       "      <td>2021-05-20 13:26:19</td>\n",
       "      <td>(0.0, 0.0)</td>\n",
       "    </tr>\n",
       "    <tr>\n",
       "      <th>121</th>\n",
       "      <td>BBC “fell short of high standards of integrity...</td>\n",
       "      <td>2021-05-20 13:16:16</td>\n",
       "      <td>(0.08, 0.41999999999999993)</td>\n",
       "    </tr>\n",
       "    <tr>\n",
       "      <th>122</th>\n",
       "      <td>More than 2,500 women who were victims of the ...</td>\n",
       "      <td>2021-05-20 08:33:36</td>\n",
       "      <td>(0.25, 0.25)</td>\n",
       "    </tr>\n",
       "    <tr>\n",
       "      <th>123</th>\n",
       "      <td>China becomes only the second country to land ...</td>\n",
       "      <td>2021-05-15 01:00:59</td>\n",
       "      <td>(-0.051851851851851864, 0.42962962962962964)</td>\n",
       "    </tr>\n",
       "    <tr>\n",
       "      <th>124</th>\n",
       "      <td>Second doses of the Covid vaccine for over-50s...</td>\n",
       "      <td>2021-05-14 16:47:45</td>\n",
       "      <td>(-0.20833333333333334, 0.2916666666666667)</td>\n",
       "    </tr>\n",
       "  </tbody>\n",
       "</table>\n",
       "<p>125 rows × 3 columns</p>\n",
       "</div>"
      ],
      "text/plain": [
       "                                                 tweet                time  \\\n",
       "0    Amazon fined $886.6m (£636m) for allegedly bre... 2021-07-30 14:58:46   \n",
       "1    Man pleads guilty to assaulting England's chie... 2021-07-30 14:15:45   \n",
       "2    Jodie Whittaker to step down from lead role in... 2021-07-29 14:03:54   \n",
       "3    Fully vaccinated travellers from US and EU wil... 2021-07-28 12:17:02   \n",
       "4    Charlotte Dujardin wins dressage bronze to bec... 2021-07-28 12:09:34   \n",
       "..                                                 ...                 ...   \n",
       "120  The report into the 1995 interview between Mar... 2021-05-20 13:26:19   \n",
       "121  BBC “fell short of high standards of integrity... 2021-05-20 13:16:16   \n",
       "122  More than 2,500 women who were victims of the ... 2021-05-20 08:33:36   \n",
       "123  China becomes only the second country to land ... 2021-05-15 01:00:59   \n",
       "124  Second doses of the Covid vaccine for over-50s... 2021-05-14 16:47:45   \n",
       "\n",
       "                                        sentiment  \n",
       "0                                   (-0.05, 0.05)  \n",
       "1      (-0.16666666666666666, 0.4166666666666667)  \n",
       "2      (-0.15555555555555559, 0.2888888888888889)  \n",
       "3                                      (0.0, 0.0)  \n",
       "4                     (0.15, 0.18333333333333335)  \n",
       "..                                            ...  \n",
       "120                                    (0.0, 0.0)  \n",
       "121                   (0.08, 0.41999999999999993)  \n",
       "122                                  (0.25, 0.25)  \n",
       "123  (-0.051851851851851864, 0.42962962962962964)  \n",
       "124    (-0.20833333333333334, 0.2916666666666667)  \n",
       "\n",
       "[125 rows x 3 columns]"
      ]
     },
     "execution_count": 18,
     "metadata": {},
     "output_type": "execute_result"
    }
   ],
   "source": [
    "from textblob import TextBlob\n",
    "df1['sentiment'] = df1['tweet'].apply(lambda x: TextBlob(x).sentiment)\n",
    "df1"
   ]
  },
  {
   "cell_type": "markdown",
   "metadata": {},
   "source": [
    "The .sentiment attribute returns 2 things :  \n",
    " - sentiment [-1,1] : 0 means neutral, <0 means negative and >0 means positive sentiment\n",
    " - Subjectiveness : tell if the topic being mentioned in the tweet is an opinion or fact.\n",
    " \n",
    "Since we have to check tweet's sentiment, we will use the sentiment score and classify it as positive, negative or neutral using a nested if-else statement."
   ]
  },
  {
   "cell_type": "code",
   "execution_count": 19,
   "metadata": {},
   "outputs": [
    {
     "data": {
      "text/html": [
       "<div>\n",
       "<style scoped>\n",
       "    .dataframe tbody tr th:only-of-type {\n",
       "        vertical-align: middle;\n",
       "    }\n",
       "\n",
       "    .dataframe tbody tr th {\n",
       "        vertical-align: top;\n",
       "    }\n",
       "\n",
       "    .dataframe thead th {\n",
       "        text-align: right;\n",
       "    }\n",
       "</style>\n",
       "<table border=\"1\" class=\"dataframe\">\n",
       "  <thead>\n",
       "    <tr style=\"text-align: right;\">\n",
       "      <th></th>\n",
       "      <th>tweet</th>\n",
       "      <th>time</th>\n",
       "      <th>sentiment</th>\n",
       "    </tr>\n",
       "  </thead>\n",
       "  <tbody>\n",
       "    <tr>\n",
       "      <th>0</th>\n",
       "      <td>Amazon fined $886.6m (£636m) for allegedly bre...</td>\n",
       "      <td>2021-07-30 14:58:46</td>\n",
       "      <td>Negative</td>\n",
       "    </tr>\n",
       "    <tr>\n",
       "      <th>1</th>\n",
       "      <td>Man pleads guilty to assaulting England's chie...</td>\n",
       "      <td>2021-07-30 14:15:45</td>\n",
       "      <td>Negative</td>\n",
       "    </tr>\n",
       "    <tr>\n",
       "      <th>2</th>\n",
       "      <td>Jodie Whittaker to step down from lead role in...</td>\n",
       "      <td>2021-07-29 14:03:54</td>\n",
       "      <td>Negative</td>\n",
       "    </tr>\n",
       "    <tr>\n",
       "      <th>3</th>\n",
       "      <td>Fully vaccinated travellers from US and EU wil...</td>\n",
       "      <td>2021-07-28 12:17:02</td>\n",
       "      <td>Neutral</td>\n",
       "    </tr>\n",
       "    <tr>\n",
       "      <th>4</th>\n",
       "      <td>Charlotte Dujardin wins dressage bronze to bec...</td>\n",
       "      <td>2021-07-28 12:09:34</td>\n",
       "      <td>Positive</td>\n",
       "    </tr>\n",
       "    <tr>\n",
       "      <th>...</th>\n",
       "      <td>...</td>\n",
       "      <td>...</td>\n",
       "      <td>...</td>\n",
       "    </tr>\n",
       "    <tr>\n",
       "      <th>120</th>\n",
       "      <td>The report into the 1995 interview between Mar...</td>\n",
       "      <td>2021-05-20 13:26:19</td>\n",
       "      <td>Neutral</td>\n",
       "    </tr>\n",
       "    <tr>\n",
       "      <th>121</th>\n",
       "      <td>BBC “fell short of high standards of integrity...</td>\n",
       "      <td>2021-05-20 13:16:16</td>\n",
       "      <td>Positive</td>\n",
       "    </tr>\n",
       "    <tr>\n",
       "      <th>122</th>\n",
       "      <td>More than 2,500 women who were victims of the ...</td>\n",
       "      <td>2021-05-20 08:33:36</td>\n",
       "      <td>Positive</td>\n",
       "    </tr>\n",
       "    <tr>\n",
       "      <th>123</th>\n",
       "      <td>China becomes only the second country to land ...</td>\n",
       "      <td>2021-05-15 01:00:59</td>\n",
       "      <td>Negative</td>\n",
       "    </tr>\n",
       "    <tr>\n",
       "      <th>124</th>\n",
       "      <td>Second doses of the Covid vaccine for over-50s...</td>\n",
       "      <td>2021-05-14 16:47:45</td>\n",
       "      <td>Negative</td>\n",
       "    </tr>\n",
       "  </tbody>\n",
       "</table>\n",
       "<p>125 rows × 3 columns</p>\n",
       "</div>"
      ],
      "text/plain": [
       "                                                 tweet                time  \\\n",
       "0    Amazon fined $886.6m (£636m) for allegedly bre... 2021-07-30 14:58:46   \n",
       "1    Man pleads guilty to assaulting England's chie... 2021-07-30 14:15:45   \n",
       "2    Jodie Whittaker to step down from lead role in... 2021-07-29 14:03:54   \n",
       "3    Fully vaccinated travellers from US and EU wil... 2021-07-28 12:17:02   \n",
       "4    Charlotte Dujardin wins dressage bronze to bec... 2021-07-28 12:09:34   \n",
       "..                                                 ...                 ...   \n",
       "120  The report into the 1995 interview between Mar... 2021-05-20 13:26:19   \n",
       "121  BBC “fell short of high standards of integrity... 2021-05-20 13:16:16   \n",
       "122  More than 2,500 women who were victims of the ... 2021-05-20 08:33:36   \n",
       "123  China becomes only the second country to land ... 2021-05-15 01:00:59   \n",
       "124  Second doses of the Covid vaccine for over-50s... 2021-05-14 16:47:45   \n",
       "\n",
       "    sentiment  \n",
       "0    Negative  \n",
       "1    Negative  \n",
       "2    Negative  \n",
       "3     Neutral  \n",
       "4    Positive  \n",
       "..        ...  \n",
       "120   Neutral  \n",
       "121  Positive  \n",
       "122  Positive  \n",
       "123  Negative  \n",
       "124  Negative  \n",
       "\n",
       "[125 rows x 3 columns]"
      ]
     },
     "execution_count": 19,
     "metadata": {},
     "output_type": "execute_result"
    }
   ],
   "source": [
    "df1.sentiment = df1.sentiment.apply(lambda x : \"Positive\" if x[0] > 0 else (\"Negative\" if x[0] < 0 else \"Neutral\"))\n",
    "df1"
   ]
  },
  {
   "cell_type": "markdown",
   "metadata": {},
   "source": [
    "The sentiments corresponding to the tweets are stored in the sentiment column."
   ]
  },
  {
   "cell_type": "code",
   "execution_count": null,
   "metadata": {},
   "outputs": [],
   "source": []
  }
 ],
 "metadata": {
  "kernelspec": {
   "display_name": "Python 3",
   "language": "python",
   "name": "python3"
  },
  "language_info": {
   "codemirror_mode": {
    "name": "ipython",
    "version": 3
   },
   "file_extension": ".py",
   "mimetype": "text/x-python",
   "name": "python",
   "nbconvert_exporter": "python",
   "pygments_lexer": "ipython3",
   "version": "3.8.7"
  }
 },
 "nbformat": 4,
 "nbformat_minor": 4
}
